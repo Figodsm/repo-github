{
 "cells": [
  {
   "cell_type": "code",
   "execution_count": null,
   "id": "e01a702a",
   "metadata": {},
   "outputs": [],
   "source": [
    "\n",
    "\n",
    "\n",
    "\n",
    "4. Начните работу над проектом «Склад оргтехники». Создайте класс, описывающий склад. А также класс «Оргтехника», который будет базовым для классов-наследников. Эти классы — конкретные типы оргтехники (принтер, сканер, ксерокс). В базовом классе определите параметры, общие для приведённых типов. В классах-наследниках реализуйте параметры, уникальные для каждого типа оргтехники.\n",
    "5. Продолжить работу над первым заданием. Разработайте методы, которые отвечают за приём оргтехники на склад и передачу в определённое подразделение компании. Для хранения данных о наименовании и количестве единиц оргтехники, а также других данных, можно использовать любую подходящую структуру (например, словарь).\n",
    "6. Продолжить работу над вторым заданием. Реализуйте механизм валидации вводимых пользователем данных. Например, для указания количества принтеров, отправленных на склад, нельзя использовать строковый тип данных.\n",
    "Подсказка: постарайтесь реализовать в проекте «Склад оргтехники» максимум возможностей, изученных на уроках по ООП.\n",
    "\n",
    "7. Реализовать проект «Операции с комплексными числами». Создайте класс «Комплексное число». Реализуйте перегрузку методов сложения и умножения комплексных чисел. Проверьте работу проекта. Для этого создаёте экземпляры класса (комплексные числа), выполните сложение и умножение созданных экземпляров. Проверьте корректность полученного результата."
   ]
  },
  {
   "cell_type": "code",
   "execution_count": 5,
   "id": "426756d8",
   "metadata": {},
   "outputs": [
    {
     "name": "stdout",
     "output_type": "stream",
     "text": [
      "[13, 12, 1992] - extracted numbers\n",
      "[99, 2, 2020] - extracted numbers\n",
      "30-02/*020 - incorrect date format, use dd-mm-yyyy format\n",
      "13-12-1992 - valid date\n",
      "99-02-2020 - invalid date\n"
     ]
    }
   ],
   "source": [
    "# Задание 1\n",
    "\"\"\"\n",
    "Реализовать класс «Дата», функция-конструктор которого должна принимать дату в виде строки формата «день-месяц-год». \n",
    "В рамках класса реализовать два метода. Первый, с декоратором @classmethod. Он должен извлекать число, месяц, \n",
    "год и преобразовывать их тип к типу «Число». Второй, с декоратором @staticmethod, должен проводить валидацию \n",
    "числа, месяца и года (например, месяц — от 1 до 12). Проверить работу полученной структуры на реальных данных.\n",
    "\"\"\"\n",
    "\n",
    "import re\n",
    "\n",
    "class Date:\n",
    "    max_days_in_month = [31, 28, 31, 30, 31, 30, 31, 31, 30, 31, 30, 31]\n",
    "    max_days_in_month_ly = [31, 29, 31, 30, 31, 30, 31, 31, 30, 31, 30, 31]\n",
    "\n",
    "    def __init__(self, date_string):\n",
    "        match_result = re.match(r'^\\d\\d-\\d\\d-\\d\\d\\d\\d$', date_string)\n",
    "        if match_result is None:\n",
    "            raise Exception(f\"{date_string} - incorrect date format, use dd-mm-yyyy format\")\n",
    "        self.date_string = date_string\n",
    "        self.day, self.month, self.year = map(int, date_string.split('-'))\n",
    "\n",
    "    @classmethod\n",
    "    def extract(cls, date_string):\n",
    "        date = cls(date_string)\n",
    "        return [date.day, date.month, date.year]\n",
    "\n",
    "    @staticmethod\n",
    "    def validate(date_string):\n",
    "        date = Date(date_string)\n",
    "        is_not_zero = date.day > 0 and date.month > 0 and date.year > 0\n",
    "        if date.year % 4 == 0 and date.year % 100 != 0 or date.year % 400 == 0:\n",
    "            is_fit_boundaries = date.month <= 12 and date.day <= date.max_days_in_month_ly[date.month - 1]\n",
    "        else:\n",
    "            is_fit_boundaries = date.month <= 12 and date.day <= date.max_days_in_month[date.month - 1]\n",
    "        return is_not_zero and is_fit_boundaries\n",
    "\n",
    "\n",
    "if __name__ == '__main__':\n",
    "    real_date_str = '13-12-1992'\n",
    "    not_valid_date_str = '99-02-2020'\n",
    "    incorrect_date_str = '30-02/*020'\n",
    "\n",
    "    real_date = Date(real_date_str)\n",
    "    print(f\"{real_date.extract(real_date_str)} - extracted numbers\")\n",
    "\n",
    "    not_valid_date = Date(not_valid_date_str)\n",
    "    print(f\"{real_date.extract(not_valid_date_str)} - extracted numbers\")\n",
    "\n",
    "    try:\n",
    "        incorrect_date = Date(incorrect_date_str)\n",
    "    except Exception as e:\n",
    "        print(e)\n",
    "\n",
    "    if Date.validate(real_date_str):\n",
    "        print(f\"{real_date_str} - valid date\")\n",
    "    else:\n",
    "        print(f\"{real_date_str} - invalid date\")\n",
    "\n",
    "    if Date.validate(not_valid_date_str):\n",
    "        print(f\"{not_valid_date_str} - valid date\")\n",
    "    else:\n",
    "        print(f\"{not_valid_date_str} - invalid date\")\n"
   ]
  },
  {
   "cell_type": "code",
   "execution_count": 21,
   "id": "06a2cbe5",
   "metadata": {},
   "outputs": [
    {
     "name": "stdout",
     "output_type": "stream",
     "text": [
      "7 / 0 = Division By Zero Error!\n",
      "45 / 5 = 9.0\n"
     ]
    }
   ],
   "source": [
    "\"\"\"\n",
    "Задание 2\n",
    "Создайте собственный класс-исключение, обрабатывающий ситуацию деления на ноль. Проверьте его работу на данных, \n",
    "вводимых пользователем. При вводе нуля в качестве делителя программа должна корректно обработать эту ситуацию и \n",
    "не завершиться с ошибкой.\n",
    "\"\"\"\n",
    "class DivisionByZeroError(Exception):\n",
    "    def __init__(self, txt):\n",
    "        self.txt = txt\n",
    "\n",
    "\n",
    "def smart_divider(a, b):\n",
    "    if b == 0:\n",
    "        raise DivisionByZeroError(f'{a} / {b} = Division By Zero Error!')\n",
    "    return a / b\n",
    "\n",
    "\n",
    "try:\n",
    "    smart_divider(7, 0)\n",
    "except DivisionByZeroError as e:\n",
    "    print(e)\n",
    "\n",
    "print(f\"45 / 5 = {smart_divider(45, 5)}\")"
   ]
  },
  {
   "cell_type": "code",
   "execution_count": 23,
   "id": "03689ab5",
   "metadata": {},
   "outputs": [
    {
     "name": "stdout",
     "output_type": "stream",
     "text": [
      "Введите числа по одному, для выхода введите 'S'\n",
      "1: 4\n",
      "2: 5\n",
      "3: 66\n",
      "4: k\n",
      "Error: k - is not a number\n",
      "4: 5\n",
      "5: w\n",
      "Error: w - is not a number\n",
      "5: s\n",
      "Error: s - is not a number\n",
      "5: S\n",
      "Result list:\n",
      "['4', '5', '66', '5']\n"
     ]
    }
   ],
   "source": [
    "\"\"\"\n",
    "Задание 3.\n",
    "Создайте собственный класс-исключение, который должен проверять содержимое списка на наличие только чисел. \n",
    "Проверить работу исключения на реальном примере. Запрашивать у пользователя данные и заполнять список необходимо только числами. Класс-исключение должен контролировать типы данных элементов списка.\n",
    "Примечание: длина списка не фиксирована. Элементы запрашиваются бесконечно, пока пользователь сам не остановит работу скрипта, \n",
    "введя, например, команду «stop». При этом скрипт завершается, сформированный список с числами выводится на экран.\n",
    "Подсказка: для этого задания примем, что пользователь может вводить только числа и строки. \n",
    "Во время ввода пользователем очередного элемента необходимо реализовать проверку типа элемента. \n",
    "Вносить его в список, только если введено число. Класс-исключение должен не позволить пользователю ввести текст \n",
    "(не число) и отобразить соответствующее сообщение. При этом работа скрипта не должна завершаться.\n",
    "\"\"\"\n",
    "\n",
    "class NaNError(Exception):\n",
    "    def __init__(self, txt):\n",
    "        self.txt = txt\n",
    "\n",
    "\n",
    "def number_filter(string):\n",
    "    if string.isdigit():\n",
    "        return string\n",
    "    else:\n",
    "        try:\n",
    "            float(string)\n",
    "            return string\n",
    "        except ValueError:\n",
    "            raise NaNError(f'Error: {string} - is not a number')\n",
    "\n",
    "\n",
    "input_txt = ''\n",
    "counter = 1\n",
    "numbers_list = []\n",
    "print(\"Введите числа по одному, для выхода введите 'S'\")\n",
    "while input_txt != 'S':\n",
    "    try:\n",
    "        input_txt = input(f\"{counter}: \")\n",
    "        numbers_list.append(number_filter(input_txt))\n",
    "        counter += 1\n",
    "    except NaNError as e:\n",
    "        if input_txt != 'S':\n",
    "            print(e.txt)\n",
    "\n",
    "print(f\"Result list:\\n{numbers_list}\")\n"
   ]
  },
  {
   "cell_type": "code",
   "execution_count": null,
   "id": "92d28665",
   "metadata": {},
   "outputs": [],
   "source": []
  }
 ],
 "metadata": {
  "kernelspec": {
   "display_name": "Python 3 (ipykernel)",
   "language": "python",
   "name": "python3"
  },
  "language_info": {
   "codemirror_mode": {
    "name": "ipython",
    "version": 3
   },
   "file_extension": ".py",
   "mimetype": "text/x-python",
   "name": "python",
   "nbconvert_exporter": "python",
   "pygments_lexer": "ipython3",
   "version": "3.9.7"
  }
 },
 "nbformat": 4,
 "nbformat_minor": 5
}
